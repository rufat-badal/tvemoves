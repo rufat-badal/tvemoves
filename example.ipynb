{
 "cells": [
  {
   "cell_type": "code",
   "execution_count": null,
   "metadata": {},
   "outputs": [],
   "source": [
    "%load_ext autoreload\n",
    "%autoreload 2\n",
    "%matplotlib inline\n",
    "%config InlineBackend.figure_format = 'retina'"
   ]
  },
  {
   "cell_type": "code",
   "execution_count": null,
   "metadata": {},
   "outputs": [],
   "source": [
    "from tvemoves_rufbad.simulation import Simulation, SimulationParams\n",
    "from tvemoves_rufbad.domain import RectangleDomain\n",
    "from tvemoves_rufbad.helpers import (\n",
    "    austenite_potential,\n",
    "    martensite_potential,\n",
    "    total_elastic_potential,\n",
    "    austenite_percentage,\n",
    ")\n",
    "from tvemoves_rufbad.tensors import Matrix\n",
    "import numpy as np\n",
    "from matplotlib import pyplot as plt\n",
    "import math"
   ]
  },
  {
   "cell_type": "markdown",
   "metadata": {},
   "source": [
    "### Austenite and Martensite potentials"
   ]
  },
  {
   "cell_type": "code",
   "execution_count": null,
   "metadata": {},
   "outputs": [],
   "source": [
    "xs = np.linspace(-2, 2, 500)\n",
    "aust = np.array([austenite_potential(Matrix([[1, x], [0, 1]])) for x in xs])\n",
    "mart = np.array([martensite_potential(Matrix([[1, x], [0, 1]])) for x in xs])\n",
    "plt.plot(xs, aust, color=\"blue\")\n",
    "plt.plot(xs, mart, color=\"red\")"
   ]
  },
  {
   "cell_type": "markdown",
   "metadata": {},
   "source": [
    "### Austenite percentage"
   ]
  },
  {
   "cell_type": "code",
   "execution_count": null,
   "metadata": {},
   "outputs": [],
   "source": [
    "ts = np.linspace(0, 10, 500)\n",
    "ps = np.array([austenite_percentage(t) for t in ts])\n",
    "plt.plot(ts, ps)"
   ]
  },
  {
   "cell_type": "markdown",
   "metadata": {},
   "source": [
    "### Total elastic energy"
   ]
  },
  {
   "cell_type": "code",
   "execution_count": null,
   "metadata": {},
   "outputs": [],
   "source": [
    "xs = np.linspace(-1, 1, 500)\n",
    "\n",
    "\n",
    "def total(theta):\n",
    "    return np.array([total_elastic_potential(Matrix([[1, x], [0, 1]]), theta) for x in xs])\n",
    "\n",
    "\n",
    "plt.plot(xs, total(0), color=\"blue\")\n",
    "plt.plot(xs, total(0.1), color=\"violet\")\n",
    "plt.plot(xs, total(0.5), color=\"green\")\n",
    "plt.plot(xs, total(0.7), color=\"orange\")\n",
    "plt.plot(xs, total(1), color=\"red\")"
   ]
  },
  {
   "cell_type": "code",
   "execution_count": null,
   "metadata": {},
   "outputs": [],
   "source": [
    "fps = 1\n",
    "eps = 1 / 10\n",
    "params = SimulationParams(initial_temperature=0.0, search_radius=100, fps=fps, scale=eps)\n",
    "domain = RectangleDomain(width=1, height=2, fix=[\"lower\"])\n",
    "\n",
    "stress_end = 8\n",
    "simulation_end = stress_end + 14\n",
    "num_steps = int(simulation_end * fps)\n",
    "\n",
    "def external_temperature(t: float):\n",
    "    if t >= stress_end:\n",
    "        return 0.3\n",
    "    return 0\n",
    "\n",
    "\n",
    "def boundary_traction(t: float, x: float, y: float):\n",
    "    if t < stress_end and y > 1 - eps / 4 and x >= 0.25 and x <= 0.75:\n",
    "        return [0, 7]\n",
    "    return [0, 0]\n",
    "\n",
    "\n",
    "sim = Simulation(domain, params, external_temperature, boundary_traction)\n",
    "num_steps"
   ]
  },
  {
   "cell_type": "code",
   "execution_count": null,
   "metadata": {},
   "outputs": [],
   "source": [
    "sim.run(num_steps=num_steps - 2)"
   ]
  },
  {
   "cell_type": "code",
   "execution_count": null,
   "metadata": {},
   "outputs": [],
   "source": [
    "sim.max_temp()"
   ]
  },
  {
   "cell_type": "code",
   "execution_count": null,
   "metadata": {},
   "outputs": [],
   "source": [
    "for i in range(len(sim.steps)):\n",
    "    sim.plot_step(i)"
   ]
  },
  {
   "cell_type": "code",
   "execution_count": null,
   "metadata": {},
   "outputs": [],
   "source": [
    "sim.plot_step(0), sim.plot_step(int(stress_end * fps)), sim.plot_step(-1)"
   ]
  },
  {
   "cell_type": "code",
   "execution_count": null,
   "metadata": {},
   "outputs": [],
   "source": [
    "fps = 15\n",
    "eps = 1 / 15\n",
    "params = SimulationParams(initial_temperature=0.0, search_radius=100, fps=fps, scale=eps)\n",
    "num_steps = int(simulation_end * fps)\n",
    "\n",
    "sim = Simulation(domain, params, external_temperature, boundary_traction)\n",
    "sim.run(num_steps=num_steps - 2)"
   ]
  },
  {
   "cell_type": "code",
   "execution_count": null,
   "metadata": {},
   "outputs": [],
   "source": [
    "sim.save_animation()"
   ]
  }
 ],
 "metadata": {
  "kernelspec": {
   "display_name": "venv",
   "language": "python",
   "name": "python3"
  },
  "language_info": {
   "codemirror_mode": {
    "name": "ipython",
    "version": 3
   },
   "file_extension": ".py",
   "mimetype": "text/x-python",
   "name": "python",
   "nbconvert_exporter": "python",
   "pygments_lexer": "ipython3",
   "version": "3.12.4"
  }
 },
 "nbformat": 4,
 "nbformat_minor": 2
}
