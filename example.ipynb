{
 "cells": [
  {
   "cell_type": "code",
   "execution_count": null,
   "metadata": {},
   "outputs": [],
   "source": [
    "%load_ext autoreload\n",
    "%autoreload 2"
   ]
  },
  {
   "cell_type": "code",
   "execution_count": null,
   "metadata": {},
   "outputs": [],
   "source": [
    "from tvemoves_rufbad.simulation import Simulation, SimulationParams\n",
    "from tvemoves_rufbad.domain import RectangleDomain\n",
    "import math"
   ]
  },
  {
   "cell_type": "code",
   "execution_count": null,
   "metadata": {},
   "outputs": [],
   "source": [
    "fps = 0.05\n",
    "tau = 1 / fps\n",
    "eps = 1 / 15\n",
    "params = SimulationParams(initial_temperature=0.0, search_radius=100.0, fps=fps, scale=eps)\n",
    "domain = RectangleDomain(width=1.0, height=1.0, fix=[\"lower\"])\n",
    "\n",
    "\n",
    "def external_temperature(t: float):\n",
    "    if t < 4 * tau:\n",
    "        return 0.0\n",
    "    return 1.0\n",
    "\n",
    "\n",
    "def boundary_traction(t: float, x: float, y: float):\n",
    "    if t < 5 * tau and y > 1.0 - eps / 2:\n",
    "        return [0.0, 5.0 * math.exp(-100*(x - 0.5)**2)]\n",
    "    return [0.0, 0.0]\n",
    "\n",
    "\n",
    "sim = Simulation(domain, params, external_temperature, boundary_traction)"
   ]
  },
  {
   "cell_type": "code",
   "execution_count": null,
   "metadata": {},
   "outputs": [],
   "source": [
    "sim.run(num_steps=8)"
   ]
  },
  {
   "cell_type": "code",
   "execution_count": null,
   "metadata": {},
   "outputs": [],
   "source": [
    "sim.max_temp()"
   ]
  },
  {
   "cell_type": "code",
   "execution_count": null,
   "metadata": {},
   "outputs": [],
   "source": [
    "for i in range(len(sim.steps)):\n",
    "    sim.plot_step(i)"
   ]
  },
  {
   "cell_type": "code",
   "execution_count": null,
   "metadata": {},
   "outputs": [],
   "source": []
  }
 ],
 "metadata": {
  "kernelspec": {
   "display_name": "venv",
   "language": "python",
   "name": "python3"
  },
  "language_info": {
   "codemirror_mode": {
    "name": "ipython",
    "version": 3
   },
   "file_extension": ".py",
   "mimetype": "text/x-python",
   "name": "python",
   "nbconvert_exporter": "python",
   "pygments_lexer": "ipython3",
   "version": "3.12.3"
  }
 },
 "nbformat": 4,
 "nbformat_minor": 2
}
